{
 "cells": [
  {
   "cell_type": "code",
   "execution_count": 10,
   "metadata": {},
   "outputs": [],
   "source": [
    "import pandas as pd\n",
    "import numpy as np\n",
    "from sklearn.ensemble import RandomForestRegressor\n",
    "from sklearn.model_selection import train_test_split\n",
    "from sklearn.metrics import mean_squared_error\n",
    "from sklearn.feature_selection import SelectFromModel\n",
    "from sklearn.preprocessing import LabelEncoder\n",
    "from joblib import dump"
   ]
  },
  {
   "cell_type": "code",
   "execution_count": 11,
   "metadata": {},
   "outputs": [],
   "source": [
    "def preprocess_data(df, label_encoders=None, is_training=True):\n",
    "    df['travel_date'] = pd.to_datetime(df['travel_date'], format='%d-%m-%y')\n",
    "    df['Year'] = df['travel_date'].dt.year\n",
    "    df['Month'] = df['travel_date'].dt.month\n",
    "    df['Day'] = df['travel_date'].dt.day\n",
    "    df['Hour'] = pd.to_datetime(df['travel_time'], format='%H:%M').dt.hour\n",
    "    df['Minutes'] = pd.to_datetime(df['travel_time'], format='%H:%M').dt.minute\n",
    "    df['number_of_ticket'] = df.groupby(\n",
    "        ['travel_from', 'car_type', 'max_capacity', 'Year', 'Month', 'Day', 'Hour', 'Minutes']\n",
    "    )['travel_from'].transform('count')\n",
    "\n",
    "    if is_training:\n",
    "\n",
    "        label_encoders = {\n",
    "            'travel_from': LabelEncoder(),\n",
    "            'car_type': LabelEncoder()\n",
    "        }\n",
    "        df['travel_from'] = label_encoders['travel_from'].fit_transform(df['travel_from'])\n",
    "        df['car_type'] = label_encoders['car_type'].fit_transform(df['car_type'])\n",
    "\n",
    "\n",
    "        dump(label_encoders['travel_from'], 'travel_from_encoder.joblib')\n",
    "        dump(label_encoders['car_type'], 'car_type_encoder.joblib')\n",
    "    else:\n",
    "\n",
    "        df['travel_from'] = label_encoders['travel_from'].transform(df['travel_from'])\n",
    "        df['car_type'] = label_encoders['car_type'].transform(df['car_type'])\n",
    "\n",
    "    return df"
   ]
  },
  {
   "cell_type": "code",
   "execution_count": 12,
   "metadata": {},
   "outputs": [],
   "source": [
    "\n",
    "def standardize_data(X, is_training=True, mean=None, std_dev=None):\n",
    "    if is_training:\n",
    "\n",
    "        mean = np.mean(X, axis=0)\n",
    "        std_dev = np.std(X, axis=0)\n",
    "        np.save('mean.npy', mean)\n",
    "        np.save('std_dev.npy', std_dev)\n",
    "\n",
    "    X = (X - mean) / std_dev\n",
    "    return X, mean, std_dev"
   ]
  },
  {
   "cell_type": "code",
   "execution_count": 13,
   "metadata": {},
   "outputs": [],
   "source": [
    "def train_model(X, Y):\n",
    "    x_train, x_test, y_train, y_test = train_test_split(X, Y, test_size=0.2, random_state=42)\n",
    "\n",
    "    model = RandomForestRegressor()\n",
    "    model.fit(x_train, y_train)\n",
    "\n",
    "    importances = model.feature_importances_\n",
    "    importance_df = pd.DataFrame({'Feature': X.columns, 'Importance': importances}).sort_values(by='Importance', ascending=False)\n",
    "\n",
    "    selector = SelectFromModel(model, threshold=0.03, prefit=True)\n",
    "    X_selected = selector.transform(X)\n",
    "\n",
    "    y_pred = model.predict(x_test)\n",
    "    mse = mean_squared_error(y_test, y_pred)\n",
    "    model_score = model.score(x_train, y_train)\n",
    "\n",
    "    return model, importance_df, X_selected, mse, model_score\n"
   ]
  },
  {
   "cell_type": "code",
   "execution_count": 14,
   "metadata": {},
   "outputs": [
    {
     "name": "stderr",
     "output_type": "stream",
     "text": [
      "/opt/anaconda3/lib/python3.12/site-packages/sklearn/base.py:486: UserWarning: X has feature names, but SelectFromModel was fitted without feature names\n",
      "  warnings.warn(\n"
     ]
    },
    {
     "name": "stdout",
     "output_type": "stream",
     "text": [
      "Mean Squared Error: 0.8569708490657373\n",
      "Model Accuracy: 0.9990385439332746\n"
     ]
    }
   ],
   "source": [
    "if __name__ == \"__main__\":\n",
    "    df = pd.read_csv('train_revised.csv')\n",
    "\n",
    "\n",
    "    df = preprocess_data(df)\n",
    "    X = df[['travel_from', 'car_type', 'max_capacity', 'Year', 'Month', 'Day', 'Hour', 'Minutes']]\n",
    "    Y = df['number_of_ticket']\n",
    "\n",
    "\n",
    "    X, mean, std_dev = standardize_data(X, is_training=True)\n",
    "\n",
    "\n",
    "    model, importance_df, X_selected, mse, model_score = train_model(X, Y)\n",
    "\n",
    "\n",
    "    dump(model, 'random_forest_model.joblib')\n",
    "\n",
    "    print(f\"Mean Squared Error: {mse}\")\n",
    "    print(f\"Model Accuracy: {model_score}\")"
   ]
  }
 ],
 "metadata": {
  "kernelspec": {
   "display_name": "base",
   "language": "python",
   "name": "python3"
  },
  "language_info": {
   "codemirror_mode": {
    "name": "ipython",
    "version": 3
   },
   "file_extension": ".py",
   "mimetype": "text/x-python",
   "name": "python",
   "nbconvert_exporter": "python",
   "pygments_lexer": "ipython3",
   "version": "3.12.7"
  }
 },
 "nbformat": 4,
 "nbformat_minor": 2
}
