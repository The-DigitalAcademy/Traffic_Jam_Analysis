{
 "cells": [
  {
   "cell_type": "code",
   "execution_count": 85,
   "metadata": {},
   "outputs": [],
   "source": [
    "import pandas as pd\n",
    "import numpy as np\n",
    "from sklearn.model_selection import train_test_split\n",
    "from sklearn.ensemble import RandomForestRegressor\n",
    "from sklearn.feature_selection import SelectFromModel\n",
    "from sklearn.metrics import mean_squared_error\n",
    "from sklearn.preprocessing import LabelEncoder\n",
    "from joblib import dump\n"
   ]
  },
  {
   "cell_type": "code",
   "execution_count": 86,
   "metadata": {},
   "outputs": [],
   "source": [
    "# Function to preprocess the data\n",
    "def preprocess_data(df):\n",
    "    # Parse dates and extract date/time features\n",
    "    df['travel_date'] = pd.to_datetime(df['travel_date'], format='%d-%m-%y')\n",
    "    df['Year'] = df['travel_date'].dt.year\n",
    "    df['Month'] = df['travel_date'].dt.month\n",
    "    df['Day'] = df['travel_date'].dt.day\n",
    "    df['Hour'] = pd.to_datetime(df['travel_time'], format='%H:%M').dt.hour\n",
    "    df['Minutes'] = pd.to_datetime(df['travel_time'], format='%H:%M').dt.minute\n",
    "    \n",
    "    # Encode categorical features\n",
    "    label_encoder = LabelEncoder()\n",
    "    df['travel_from'] = label_encoder.fit_transform(df['travel_from'])\n",
    "    df['car_type'] = label_encoder.fit_transform(df['car_type'])\n",
    "    \n",
    "    return df"
   ]
  },
  {
   "cell_type": "code",
   "execution_count": 87,
   "metadata": {},
   "outputs": [],
   "source": [
    "# Function to standardize the features\n",
    "def standardize_features(X):\n",
    "    mean = np.mean(X, axis=0)\n",
    "    std_dev = np.std(X, axis=0)\n",
    "    X_standardized = (X - mean) / std_dev\n",
    "    return X_standardized"
   ]
  },
  {
   "cell_type": "code",
   "execution_count": 88,
   "metadata": {},
   "outputs": [],
   "source": [
    "# Function to train the model\n",
    "def train_model(X, Y, test_size=0.20, random_state=42):\n",
    "    x_train, x_test, y_train, y_test = train_test_split(X, Y, test_size=test_size, random_state=random_state)\n",
    "    model = RandomForestRegressor(random_state=random_state)\n",
    "    model.fit(x_train, y_train)\n",
    "    return model, x_train, x_test, y_train, y_test"
   ]
  },
  {
   "cell_type": "code",
   "execution_count": 89,
   "metadata": {},
   "outputs": [],
   "source": [
    "# Function to evaluate the model\n",
    "def evaluate_model(model, x_test, y_test):\n",
    "    y_pred = model.predict(x_test)\n",
    "    mse = mean_squared_error(y_test, y_pred)\n",
    "    return mse, y_pred"
   ]
  },
  {
   "cell_type": "code",
   "execution_count": 90,
   "metadata": {},
   "outputs": [],
   "source": [
    "# Function to get feature importance and select features\n",
    "def select_features(model, X, threshold=0.03):\n",
    "    importances = model.feature_importances_\n",
    "    importance_df = pd.DataFrame({'Feature': X.columns, 'Importance': importances}).sort_values(by='Importance', ascending=False)\n",
    "    print(importance_df)\n",
    "    selector = SelectFromModel(model, threshold=threshold, prefit=True)\n",
    "    X_selected = selector.transform(X)\n",
    "    selected_features = X.columns[selector.get_support()]\n"
   ]
  },
  {
   "cell_type": "code",
   "execution_count": 91,
   "metadata": {},
   "outputs": [],
   "source": [
    "# Main workflow\n",
    "def main(df):\n",
    "    # Preprocess the data\n",
    "    df = preprocess_data(df)\n",
    "\n",
    "    df['number_of_ticket'] = df.groupby(['travel_from', 'car_type', 'max_capacity', 'Year', 'Month', 'Day', 'Hour', 'Minutes'])['travel_from'].transform('count')\n",
    "    \n",
    "    # Select features and target\n",
    "    X = df[['travel_from', 'car_type', 'max_capacity', 'Year', 'Month', 'Day', 'Hour', 'Minutes']]\n",
    "    Y = df['number_of_ticket']\n",
    "    \n",
    "    # Standardize the features\n",
    "    X = standardize_features(X)\n",
    "    \n",
    "    # Train the model\n",
    "    model, x_train, x_test, y_train, y_test = train_model(X, Y)\n",
    "    \n",
    "    # Evaluate the model\n",
    "    mse, y_pred = evaluate_model(model, x_test, y_test)\n",
    "    print(f\"Mean Squared Error: {mse}\")\n",
    "    \n",
    "    # Feature importance and selection\n",
    "    importance_df, selected_features, X_selected = select_features(model, X)\n",
    "    \n",
    "    # Save the model\n",
    "    dump(model, 'random_forest_model.joblib')\n",
    "    \n",
    "    return mse"
   ]
  },
  {
   "cell_type": "code",
   "execution_count": 92,
   "metadata": {},
   "outputs": [
    {
     "name": "stdout",
     "output_type": "stream",
     "text": [
      "Mean Squared Error: 0.8359956142898635\n",
      "        Feature  Importance\n",
      "0   travel_from    0.263379\n",
      "5           Day    0.190441\n",
      "7       Minutes    0.181480\n",
      "2  max_capacity    0.145026\n",
      "1      car_type    0.128270\n",
      "4         Month    0.068994\n",
      "6          Hour    0.018462\n",
      "3          Year    0.003947\n"
     ]
    },
    {
     "name": "stderr",
     "output_type": "stream",
     "text": [
      "/opt/anaconda3/lib/python3.12/site-packages/sklearn/base.py:486: UserWarning: X has feature names, but SelectFromModel was fitted without feature names\n",
      "  warnings.warn(\n"
     ]
    },
    {
     "ename": "TypeError",
     "evalue": "cannot unpack non-iterable NoneType object",
     "output_type": "error",
     "traceback": [
      "\u001b[0;31m---------------------------------------------------------------------------\u001b[0m",
      "\u001b[0;31mTypeError\u001b[0m                                 Traceback (most recent call last)",
      "Cell \u001b[0;32mIn[92], line 6\u001b[0m\n\u001b[1;32m      1\u001b[0m \u001b[38;5;28;01mif\u001b[39;00m \u001b[38;5;18m__name__\u001b[39m \u001b[38;5;241m==\u001b[39m \u001b[38;5;124m\"\u001b[39m\u001b[38;5;124m__main__\u001b[39m\u001b[38;5;124m\"\u001b[39m:\n\u001b[1;32m      2\u001b[0m     \u001b[38;5;66;03m# Assuming you have a CSV or DataFrame to load\u001b[39;00m\n\u001b[1;32m      3\u001b[0m     \u001b[38;5;66;03m# df = pd.read_csv('your_data.csv')  # Un-comment this if reading from a file\u001b[39;00m\n\u001b[1;32m      4\u001b[0m     df \u001b[38;5;241m=\u001b[39m pd\u001b[38;5;241m.\u001b[39mread_csv(\u001b[38;5;124m'\u001b[39m\u001b[38;5;124mtrain_revised.csv\u001b[39m\u001b[38;5;124m'\u001b[39m)  \u001b[38;5;66;03m# Example DataFrame, replace with your actual data\u001b[39;00m\n\u001b[0;32m----> 6\u001b[0m     mse \u001b[38;5;241m=\u001b[39m main(df)\n\u001b[1;32m      8\u001b[0m     \u001b[38;5;28mprint\u001b[39m(\u001b[38;5;124mf\u001b[39m\u001b[38;5;124m\"\u001b[39m\u001b[38;5;124mMean Squared Error: \u001b[39m\u001b[38;5;132;01m{\u001b[39;00mmse\u001b[38;5;132;01m}\u001b[39;00m\u001b[38;5;124m\"\u001b[39m)\n",
      "Cell \u001b[0;32mIn[91], line 23\u001b[0m, in \u001b[0;36mmain\u001b[0;34m(df)\u001b[0m\n\u001b[1;32m     20\u001b[0m \u001b[38;5;28mprint\u001b[39m(\u001b[38;5;124mf\u001b[39m\u001b[38;5;124m\"\u001b[39m\u001b[38;5;124mMean Squared Error: \u001b[39m\u001b[38;5;132;01m{\u001b[39;00mmse\u001b[38;5;132;01m}\u001b[39;00m\u001b[38;5;124m\"\u001b[39m)\n\u001b[1;32m     22\u001b[0m \u001b[38;5;66;03m# Feature importance and selection\u001b[39;00m\n\u001b[0;32m---> 23\u001b[0m importance_df, selected_features, X_selected \u001b[38;5;241m=\u001b[39m select_features(model, X)\n\u001b[1;32m     25\u001b[0m \u001b[38;5;66;03m# Save the model\u001b[39;00m\n\u001b[1;32m     26\u001b[0m dump(model, \u001b[38;5;124m'\u001b[39m\u001b[38;5;124mrandom_forest_model.joblib\u001b[39m\u001b[38;5;124m'\u001b[39m)\n",
      "\u001b[0;31mTypeError\u001b[0m: cannot unpack non-iterable NoneType object"
     ]
    }
   ],
   "source": [
    "if __name__ == \"__main__\":\n",
    "    # Assuming you have a CSV or DataFrame to load\n",
    "    # df = pd.read_csv('your_data.csv')  # Un-comment this if reading from a file\n",
    "    df = pd.read_csv('train_revised.csv')  # Example DataFrame, replace with your actual data\n",
    "\n",
    "    mse = main(df)\n",
    "\n",
    "    print(f\"Mean Squared Error: {mse}\")"
   ]
  }
 ],
 "metadata": {
  "kernelspec": {
   "display_name": "base",
   "language": "python",
   "name": "python3"
  },
  "language_info": {
   "codemirror_mode": {
    "name": "ipython",
    "version": 3
   },
   "file_extension": ".py",
   "mimetype": "text/x-python",
   "name": "python",
   "nbconvert_exporter": "python",
   "pygments_lexer": "ipython3",
   "version": "3.12.7"
  }
 },
 "nbformat": 4,
 "nbformat_minor": 2
}
