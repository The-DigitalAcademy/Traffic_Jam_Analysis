{
 "cells": [
  {
   "cell_type": "code",
   "execution_count": 116,
   "metadata": {},
   "outputs": [],
   "source": [
    "import pandas as pd\n",
    "import numpy as np\n",
    "from sklearn import preprocessing\n",
    "from sklearn.model_selection import train_test_split\n",
    "from sklearn.metrics import mean_squared_error\n",
    "from sklearn.ensemble import RandomForestRegressor\n",
    "from sklearn.feature_selection import SelectFromModel\n",
    "from joblib import dump, load"
   ]
  },
  {
   "cell_type": "code",
   "execution_count": 117,
   "metadata": {},
   "outputs": [],
   "source": [
    "def preprocess_data(df):\n",
    "\n",
    "    df['travel_date'] = pd.to_datetime(df['travel_date'], format='%d-%m-%y')\n",
    "    df['Year'] = df['travel_date'].dt.year\n",
    "    df['Month'] = df['travel_date'].dt.month\n",
    "    df['Day'] = df['travel_date'].dt.day\n",
    "    df['Hour'] = pd.to_datetime(df['travel_time'], format='%H:%M').dt.hour\n",
    "    df['Minutes'] = pd.to_datetime(df['travel_time'], format='%H:%M').dt.minute\n",
    "    \n",
    "\n",
    "    df['number_of_ticket'] = df.groupby(\n",
    "        ['travel_from', 'car_type', 'max_capacity', 'Year', 'Month', 'Day', 'Hour', 'Minutes']\n",
    "    )['travel_from'].transform('count')\n",
    "    \n",
    "\n",
    "    label_encoder = preprocessing.LabelEncoder()\n",
    "    df['travel_from'] = label_encoder.fit_transform(df['travel_from'])\n",
    "    df['car_type'] = label_encoder.fit_transform(df['car_type'])\n",
    "    \n",
    "    return df"
   ]
  },
  {
   "cell_type": "code",
   "execution_count": null,
   "metadata": {},
   "outputs": [],
   "source": [
    "\n",
    "def standardize_data(X):\n",
    "\n",
    "    mean = np.mean(X, axis=0)\n",
    "    std_dev = np.std(X, axis=0)\n",
    "    X = (X - mean) / std_dev\n",
    "    return X"
   ]
  },
  {
   "cell_type": "code",
   "execution_count": 119,
   "metadata": {},
   "outputs": [],
   "source": [
    "def train_model(X, Y):\n",
    "\n",
    "    x_train, x_test, y_train, y_test = train_test_split(X, Y, test_size=0.20, random_state=42)\n",
    "    \n",
    "    model = RandomForestRegressor()\n",
    "    model.fit(x_train, y_train)\n",
    "    \n",
    "    importances = model.feature_importances_\n",
    "    importance_df = pd.DataFrame({'Feature': X.columns, 'Importance': importances})\n",
    "    importance_df = importance_df.sort_values(by='Importance', ascending=False)\n",
    "    \n",
    "\n",
    "    selector = SelectFromModel(model, threshold=0.03, prefit=True) \n",
    "    X_selected = selector.transform(X)\n",
    "    \n",
    "\n",
    "    y_pred = model.predict(x_test)\n",
    "    mse = mean_squared_error(y_test, y_pred)\n",
    "    model_score = model.score(x_train, y_train)\n",
    "    \n",
    "    return model, importance_df, X_selected, mse, model_score\n"
   ]
  },
  {
   "cell_type": "code",
   "execution_count": 120,
   "metadata": {},
   "outputs": [
    {
     "name": "stderr",
     "output_type": "stream",
     "text": [
      "/opt/anaconda3/lib/python3.12/site-packages/sklearn/base.py:486: UserWarning: X has feature names, but SelectFromModel was fitted without feature names\n",
      "  warnings.warn(\n"
     ]
    },
    {
     "name": "stdout",
     "output_type": "stream",
     "text": [
      "Mean Squared Error: 0.8483973375931843\n",
      "Model Accuracy: 0.9990749537844216\n"
     ]
    }
   ],
   "source": [
    "# Main script\n",
    "if __name__ == \"__main__\":\n",
    "    df = pd.read_csv('train_revised.csv')\n",
    "    \n",
    "    df = preprocess_data(df)\n",
    "    \n",
    "    X = df[['travel_from', 'car_type', 'max_capacity', 'Year', 'Month', 'Day', 'Hour', 'Minutes']]\n",
    "    Y = df['number_of_ticket']\n",
    "\n",
    "    X = standardize_data(X)\n",
    "\n",
    "    model, importance_df, X_selected, mse, model_score = train_model(X, Y)\n",
    "\n",
    "\n",
    "    dump(model, 'random_forest_model.joblib')\n",
    "\n",
    "\n",
    "    # print(\"Feature Importance:\")\n",
    "    # print(importance_df)\n",
    "    print(f\"Mean Squared Error: {mse}\")\n",
    "    print(f\"Model Accuracy: {model_score}\")"
   ]
  }
 ],
 "metadata": {
  "kernelspec": {
   "display_name": "base",
   "language": "python",
   "name": "python3"
  },
  "language_info": {
   "codemirror_mode": {
    "name": "ipython",
    "version": 3
   },
   "file_extension": ".py",
   "mimetype": "text/x-python",
   "name": "python",
   "nbconvert_exporter": "python",
   "pygments_lexer": "ipython3",
   "version": "3.12.7"
  }
 },
 "nbformat": 4,
 "nbformat_minor": 2
}
